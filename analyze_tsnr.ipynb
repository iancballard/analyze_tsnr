{
 "cells": [
  {
   "cell_type": "code",
   "execution_count": 48,
   "metadata": {
    "collapsed": false
   },
   "outputs": [],
   "source": [
    "import os\n",
    "import numpy as np\n",
    "import glob\n",
    "import csv\n",
    "import matplotlib\n",
    "import glob\n",
    "import matplotlib.pyplot as plt\n",
    "import pandas as pd\n",
    "from pandas import DataFrame, Series\n",
    "import seaborn as sns\n",
    "import scipy\n",
    "import scipy.io\n",
    "from collections import Counter\n",
    "import sys\n",
    "import nibabel as nib\n",
    "import pickle\n",
    "from moss.mosaic import Mosaic\n",
    "from scipy.optimize import minimize\n",
    "from ipyparallel import Client\n",
    "import operator\n",
    "%matplotlib inline"
   ]
  },
  {
   "cell_type": "code",
   "execution_count": 21,
   "metadata": {
    "collapsed": false
   },
   "outputs": [],
   "source": [
    "home_dir ='/Users/ianballard/Dropbox/Decision Neuroscience Lab/Pilot_MRI_Data/jesse_scan/'"
   ]
  },
  {
   "cell_type": "code",
   "execution_count": null,
   "metadata": {
    "collapsed": true
   },
   "outputs": [],
   "source": [
    "cmap = sns.cubehelix_palette(as_cmap=True, reverse=True,light=1, dark=0) #colormap for plotting"
   ]
  },
  {
   "cell_type": "code",
   "execution_count": 15,
   "metadata": {
    "collapsed": true
   },
   "outputs": [],
   "source": [
    "prefix = 's0'\n",
    "scan_map = {'06':(0,30,0),#acquisition angle, TE, pepolar\n",
    "            '07':(0,30,1),\n",
    "            '08':(0,30,1),\n",
    "            '12':(0,27,1),\n",
    "            '36':(0,27,0),\n",
    "            '37':(0,27,1),\n",
    "            '13':(15,27,0),\n",
    "            '14':(15,27,0),  \n",
    "            '16':(15,27,0),\n",
    "            '17':(15,27,1),\n",
    "            '18':(15,27,1),\n",
    "            '20':(15,30,0),\n",
    "            '21':(15,30,1),\n",
    "            '23':(15,30,1),\n",
    "            '24':(15,30,0),\n",
    "            '26':(30,30,1),\n",
    "            '27':(30,30,0),  \n",
    "            '29':(30,30,0),\n",
    "            '30':(30,30,1),\n",
    "            '31':(30,27,0),\n",
    "            '32':(30,27,1),\n",
    "            '33':(30,27,1),\n",
    "            '34':(30,27,0),\n",
    "           }"
   ]
  },
  {
   "cell_type": "code",
   "execution_count": 16,
   "metadata": {
    "collapsed": false
   },
   "outputs": [],
   "source": [
    "#motion correct data (to a common template (random slice taken from one of the runs))\n",
    "for s in scan_map.keys():\n",
    "    \n",
    "    scan = home_dir + prefix + s + 'a1001.nii.gz'\n",
    "    cmd = ['mcflirt','-in',scan,'-reffile',home_dir + '/slice_target.nii.gz']\n",
    "    os.system(' '.join(cmd))"
   ]
  },
  {
   "cell_type": "code",
   "execution_count": 153,
   "metadata": {
    "collapsed": true
   },
   "outputs": [],
   "source": [
    "def find_spikes(d, spike_thresh):\n",
    "    slice_mean = d.mean(axis=0).mean(axis=0)\n",
    "    t_z = (slice_mean - np.atleast_2d(slice_mean.mean(axis=1)).T) / np.atleast_2d(slice_mean.std(axis=1)).T\n",
    "    spikes = np.abs(t_z)>spike_thresh\n",
    "    spike_inds = np.transpose(spikes.nonzero())\n",
    "    spike_inds = [x[0] for x in spike_inds]\n",
    "    return spike_inds, t_z"
   ]
  },
  {
   "cell_type": "code",
   "execution_count": 154,
   "metadata": {
    "collapsed": false
   },
   "outputs": [],
   "source": [
    "def process_data(scan):\n",
    "    scan = home_dir + prefix + s + 'a1001_mcf.nii.gz'\n",
    "\n",
    "    d = nib.load(scan).get_data()\n",
    "    \n",
    "    #drop T1 saturation\n",
    "    d = d[...,2:]\n",
    "\n",
    "    #find and remove spikes\n",
    "    spike_inds, t_z = find_spikes(d, 3.5)\n",
    "    mask = np.ones(d.shape[-1], dtype=bool)\n",
    "    mask[spike_inds] = False\n",
    "    d = d[...,mask]\n",
    "\n",
    "    #compute mean and tsnr\n",
    "    mean_signal = d.mean(axis=3)\n",
    "    tsnr = mean_signal / d.std(axis=3)\n",
    "\n",
    "    #compute a rough mask\n",
    "    counts, bins = np.histogram(mean_signal[mean_signal > 0], 50)\n",
    "    thresh = bins[np.diff(counts) > 0][0]\n",
    "    mask = mean_signal>thresh\n",
    "\n",
    "    return mean_signal,tsnr,mask"
   ]
  },
  {
   "cell_type": "code",
   "execution_count": 163,
   "metadata": {
    "collapsed": false
   },
   "outputs": [
    {
     "name": "stderr",
     "output_type": "stream",
     "text": [
      "/anaconda/lib/python2.7/site-packages/ipykernel/__main__.py:21: VisibleDeprecationWarning: boolean index did not match indexed array along dimension 0; dimension is 51 but corresponding boolean dimension is 49\n"
     ]
    }
   ],
   "source": [
    "#get median tsnr for each scan as well load up all data\n",
    "tsnr = {}\n",
    "all_data = {}\n",
    "for s in scan_map.keys():\n",
    "    scan = home_dir + prefix + s + 'a1001_mcf.nii.gz'\n",
    "    d1,tsnr1,mask1 = process_data(scan)\n",
    "    all_data[s] = (d1,tsnr1,mask1)\n",
    "    med_tsnr = np.median(tsnr1[mask1])\n",
    "    tsnr[s] = med_tsnr"
   ]
  },
  {
   "cell_type": "code",
   "execution_count": 164,
   "metadata": {
    "collapsed": false
   },
   "outputs": [
    {
     "data": {
      "text/plain": [
       "[((15, 30, 1), 76.029144353909516),\n",
       " ((15, 30, 0), 78.779035202770302),\n",
       " ((15, 27, 0), 82.492650837849084),\n",
       " ((15, 27, 1), 83.147995923933919),\n",
       " ((30, 30, 0), 87.843098911206098),\n",
       " ((15, 27, 1), 91.827082361196986),\n",
       " ((30, 30, 0), 93.95820849713742),\n",
       " ((15, 27, 0), 96.662831134074551),\n",
       " ((15, 27, 0), 97.723920939552016),\n",
       " ((0, 27, 1), 99.761887608176835),\n",
       " ((30, 30, 1), 103.21623946665611),\n",
       " ((30, 27, 1), 109.63703485004439),\n",
       " ((30, 27, 0), 113.30422287110817),\n",
       " ((30, 27, 1), 117.90740931975849),\n",
       " ((30, 27, 0), 125.08152630661495),\n",
       " ((30, 30, 1), 125.19361100232072),\n",
       " ((15, 30, 1), 127.36821455890288),\n",
       " ((15, 30, 0), 131.20591567357221),\n",
       " ((0, 27, 1), 131.86249808201251),\n",
       " ((0, 27, 0), 134.03668886227422),\n",
       " ((0, 30, 1), 135.45174207312377),\n",
       " ((0, 30, 1), 143.55631709856956),\n",
       " ((0, 30, 0), 152.63841343239233)]"
      ]
     },
     "execution_count": 164,
     "metadata": {},
     "output_type": "execute_result"
    }
   ],
   "source": [
    "sorted_tsnr = sorted(tsnr.items(), key=operator.itemgetter(1))\n",
    "sorted_tsnr = [(scan_map[x],y) for x,y in sorted_tsnr]\n",
    "sorted_tsnr"
   ]
  },
  {
   "cell_type": "code",
   "execution_count": 169,
   "metadata": {
    "collapsed": false
   },
   "outputs": [],
   "source": [
    "def make_diff_pairwise(params1,params2):\n",
    "    \n",
    "    tsnr_trg = []\n",
    "    tsnr_cmp = []\n",
    "    for s in scan_map.keys():\n",
    "        if scan_map[s] == params1: #target scan\n",
    "            d1,tsnr,mask1 = all_data[s]\n",
    "            tsnr_trg.append(tsnr)\n",
    "        if scan_map[s] == params2: #comparison scan\n",
    "            d2,tsnr,mask2 = all_data[s]\n",
    "            tsnr_cmp.append(tsnr) \n",
    "    \n",
    "    #take mean tsnr across exemplars\n",
    "    tsnr1 = np.stack(tsnr_trg)\n",
    "    tsnr1 = np.mean(tsnr1,axis=0)\n",
    "\n",
    "    tsnr2 = np.stack(tsnr_cmp)\n",
    "    tsnr2 = np.mean(tsnr2,axis=0)\n",
    "\n",
    "    #compute tsnr difference\n",
    "    diff = (tsnr1 - tsnr2)/tsnr2\n",
    "    diff = np.nan_to_num(diff)\n",
    "    mask = np.ma.mask_or(mask1,mask2).astype(int)\n",
    "\n",
    "    #plot and save\n",
    "    m = Mosaic(d2,stat = diff,mask = mask, step=1)\n",
    "    m.plot_activation(thresh = .05,vmin=.05,vmax = 1,neg_cmap='Blues')\n",
    "    m.savefig(home_dir + '/figs/pairwise/angle_' + str(params1[0]) + '_TE_' +\n",
    "              str(params1[1]) + '_pe_'+  str(params1[2]) +\n",
    "              '_grtr_than_angle_' + str(params2[0]) + '_TE_' +\n",
    "              str(params2[1]) + '_pe_'+  str(params2[2]) + '.png')"
   ]
  },
  {
   "cell_type": "code",
   "execution_count": 171,
   "metadata": {
    "collapsed": false
   },
   "outputs": [],
   "source": [
    "def make_diff(params):\n",
    "    #Average TSNR of target parameters as well as TSNR of all other parameters\n",
    "    tsnr_trg = []\n",
    "    tsnr_others = []\n",
    "    for s in scan_map.keys():\n",
    "        if scan_map[s] == params: #target scan\n",
    "            d1,tsnr,mask1 = all_data[s]\n",
    "            tsnr_trg.append(tsnr)\n",
    "        else:\n",
    "            d2,tsnr,mask2 = all_data[s]\n",
    "            tsnr_others.append(tsnr)        \n",
    "\n",
    "    #take mean tsnr across exemplars\n",
    "    tsnr1 = np.stack(tsnr_trg)\n",
    "    tsnr1 = np.mean(tsnr1,axis=0)\n",
    "\n",
    "    tsnr2 = np.stack(tsnr_others)\n",
    "    tsnr2 = np.mean(tsnr2,axis=0)\n",
    "\n",
    "    #compute tsnr difference\n",
    "    diff = (tsnr1 - tsnr2)/tsnr2\n",
    "    diff = np.nan_to_num(diff)\n",
    "    mask = np.ma.mask_or(mask1,mask2).astype(int)\n",
    "\n",
    "    #plot and save\n",
    "    m = Mosaic(d2,stat = diff,mask = mask, step=1)\n",
    "    m.plot_activation(thresh = .05,vmin=.05,vmax = 1,neg_cmap='Blues')\n",
    "    m.savefig(home_dir + '/figs/angle_' + str(params[0]) + '_TE_' +\n",
    "              str(params[1]) + '_pe_'+  str(params[2]) + '_grtr_than_mean.png')"
   ]
  },
  {
   "cell_type": "code",
   "execution_count": 4,
   "metadata": {
    "collapsed": false
   },
   "outputs": [],
   "source": [
    "for p in set(scan_map.values()):\n",
    "    make_diff(p)"
   ]
  },
  {
   "cell_type": "code",
   "execution_count": 3,
   "metadata": {
    "collapsed": false
   },
   "outputs": [],
   "source": [
    "params = (30,27,1)\n",
    "for p in set(scan_map.values()):\n",
    "    if p != params:\n",
    "        make_diff_pairwise(params,p)"
   ]
  },
  {
   "cell_type": "code",
   "execution_count": 2,
   "metadata": {
    "collapsed": false
   },
   "outputs": [],
   "source": [
    "params = (0,30,0)\n",
    "for p in set(scan_map.values()):\n",
    "    if p != params:\n",
    "        make_diff_pairwise(params,p)"
   ]
  },
  {
   "cell_type": "code",
   "execution_count": 1,
   "metadata": {
    "collapsed": false
   },
   "outputs": [],
   "source": [
    "params = (0,27,0)\n",
    "for p in set(scan_map.values()):\n",
    "    if p != params:\n",
    "        make_diff_pairwise(params,p)"
   ]
  },
  {
   "cell_type": "code",
   "execution_count": null,
   "metadata": {
    "collapsed": true
   },
   "outputs": [],
   "source": []
  }
 ],
 "metadata": {
  "kernelspec": {
   "display_name": "Python 2",
   "language": "python",
   "name": "python2"
  },
  "language_info": {
   "codemirror_mode": {
    "name": "ipython",
    "version": 2
   },
   "file_extension": ".py",
   "mimetype": "text/x-python",
   "name": "python",
   "nbconvert_exporter": "python",
   "pygments_lexer": "ipython2",
   "version": "2.7.11"
  }
 },
 "nbformat": 4,
 "nbformat_minor": 0
}
